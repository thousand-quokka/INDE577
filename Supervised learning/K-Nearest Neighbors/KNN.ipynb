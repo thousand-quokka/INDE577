{
 "cells": [
  {
   "attachments": {},
   "cell_type": "markdown",
   "metadata": {},
   "source": [
    "# K-Nearest Neighbors (KNN)\n",
    "\n",
    "### Introduction\n",
    "The K Nearest Neighbors (KNN) algorithm is an uncomplicated method that retains all available cases and categorizes new data or cases by means of a similarity measure. It is commonly employed to classify a datapoint by examining the classification of its nearest neighbors. KNN finds its applications in a broad range of areas, such as recommendation systems, anomaly detection, and image/text classification. While KNN can be utilized for regression, its use for this purpose is not as prevalent as it is for classification.\n",
    "\n",
    "\n",
    "### Generalized Algorithm: \n",
    "1. Calculate the distance between test data and each row of training dataset.\n",
    "2. Sort the calculated distances in ascending order based on distance values.\n",
    "3. Get top k rows from the sorted array.\n",
    "4. Get the most frequent class of these rows.\n",
    "5. Return the predicted class.\n",
    "\n",
    "### Advantages and Disadvantages\n",
    "\n",
    "#### Advantages\n",
    "- Easy to implement: Given the algorithm’s simplicity and accuracy, it is one of the first classifiers that a new data scientist will learn.\n",
    "- Adapts easily: As new training samples are added, the algorithm adjusts to account for any new data since all training data is stored into memory.\n",
    "\n",
    "- Few hyperparameters: KNN only requires a k value and a distance metric, which is low when compared to other machine learning algorithms.\n",
    "\n",
    "#### Disadvantages\n",
    "- Does not scale well: Since KNN is a lazy algorithm, it takes up more memory and data storage compared to other classifiers. This can be costly from both a time and money perspective. More memory and storage will drive up business expenses and more data can take longer to compute. While different data structures, such as Ball-Tree, have been created to address the computational inefficiencies, a different classifier may be ideal depending on the business problem.\n",
    "\n",
    "- Curse of dimensionality: The KNN algorithm tends to fall victim to the curse of dimensionality, which means that it doesn’t perform well with high-dimensional data inputs. This is sometimes also referred to as the peaking phenomenon, where after the algorithm attains the optimal number of features, additional features increases the amount of classification errors, especially when the sample size is smaller.\n",
    "\n",
    "- Prone to overfitting: Due to the “curse of dimensionality”, KNN is also more prone to overfitting. While feature selection and dimensionality reduction techniques are leveraged to prevent this from occurring, the value of k can also impact the model’s behavior. Lower values of k can overfit the data, whereas higher values of k tend to “smooth out” the prediction values since it is averaging the values over a greater area, or neighborhood. However, if the value of k is too high, then it can underfit the data. \n",
    "\n",
    "\n"
   ]
  },
  {
   "attachments": {},
   "cell_type": "markdown",
   "metadata": {},
   "source": [
    "#### Application\n",
    "In this part, we apply K-Nearest Neighbors algorithm on the red wine dataset, this dataset comes from UCI."
   ]
  },
  {
   "cell_type": "code",
   "execution_count": 37,
   "metadata": {},
   "outputs": [],
   "source": [
    "import numpy as np\n",
    "import pandas as pd\n",
    "from sklearn import datasets\n",
    "from sklearn.model_selection import train_test_split\n",
    "from sklearn.preprocessing import StandardScaler\n",
    "import matplotlib.pyplot as plt\n",
    "import seaborn as sns\n",
    "from collections import Counter"
   ]
  },
  {
   "cell_type": "code",
   "execution_count": 35,
   "metadata": {},
   "outputs": [
    {
     "name": "stderr",
     "output_type": "stream",
     "text": [
      "/var/folders/_b/hcwjc0m51vz15mg59fc88h5r0000gn/T/ipykernel_95166/994139169.py:1: FutureWarning: The error_bad_lines argument has been deprecated and will be removed in a future version. Use on_bad_lines in the future.\n",
      "\n",
      "\n",
      "  wine = pd.read_csv('winequality-red.csv', sep=';', error_bad_lines=False, engine='python') # type: ignore\n"
     ]
    }
   ],
   "source": [
    "wine = pd.read_csv('winequality-red.csv', sep=';', error_bad_lines=False, engine='python') # type: ignore\n",
    "wine = datasets.load_wine()\n",
    "X = wine.data\n",
    "y = wine.target"
   ]
  },
  {
   "attachments": {},
   "cell_type": "markdown",
   "metadata": {},
   "source": [
    "Firstly, we have a look at summary of our dataset. According to the result, we could see there is no missing data and the features are all positive."
   ]
  },
  {
   "cell_type": "code",
   "execution_count": 34,
   "metadata": {},
   "outputs": [
    {
     "name": "stdout",
     "output_type": "stream",
     "text": [
      "               0           1           2           3           4           5   \\\n",
      "count  178.000000  178.000000  178.000000  178.000000  178.000000  178.000000   \n",
      "mean    13.000618    2.336348    2.366517   19.494944   99.741573    2.295112   \n",
      "std      0.811827    1.117146    0.274344    3.339564   14.282484    0.625851   \n",
      "min     11.030000    0.740000    1.360000   10.600000   70.000000    0.980000   \n",
      "25%     12.362500    1.602500    2.210000   17.200000   88.000000    1.742500   \n",
      "50%     13.050000    1.865000    2.360000   19.500000   98.000000    2.355000   \n",
      "75%     13.677500    3.082500    2.557500   21.500000  107.000000    2.800000   \n",
      "max     14.830000    5.800000    3.230000   30.000000  162.000000    3.880000   \n",
      "\n",
      "               6           7           8           9           10          11  \\\n",
      "count  178.000000  178.000000  178.000000  178.000000  178.000000  178.000000   \n",
      "mean     2.029270    0.361854    1.590899    5.058090    0.957449    2.611685   \n",
      "std      0.998859    0.124453    0.572359    2.318286    0.228572    0.709990   \n",
      "min      0.340000    0.130000    0.410000    1.280000    0.480000    1.270000   \n",
      "25%      1.205000    0.270000    1.250000    3.220000    0.782500    1.937500   \n",
      "50%      2.135000    0.340000    1.555000    4.690000    0.965000    2.780000   \n",
      "75%      2.875000    0.437500    1.950000    6.200000    1.120000    3.170000   \n",
      "max      5.080000    0.660000    3.580000   13.000000    1.710000    4.000000   \n",
      "\n",
      "                12  \n",
      "count   178.000000  \n",
      "mean    746.893258  \n",
      "std     314.907474  \n",
      "min     278.000000  \n",
      "25%     500.500000  \n",
      "50%     673.500000  \n",
      "75%     985.000000  \n",
      "max    1680.000000  \n"
     ]
    }
   ],
   "source": [
    "print(pd.DataFrame(X).describe())"
   ]
  },
  {
   "attachments": {},
   "cell_type": "markdown",
   "metadata": {},
   "source": [
    "We could determine the number of wine types in the dataset as well as the quantity of samples in each specific type. Based on the findings, it is evident that there are three variations of red wine, with 59, 71, and 71 samples respectively for each type."
   ]
  },
  {
   "cell_type": "code",
   "execution_count": 38,
   "metadata": {},
   "outputs": [
    {
     "name": "stdout",
     "output_type": "stream",
     "text": [
      "Counter({1: 71, 0: 59, 2: 48})\n"
     ]
    }
   ],
   "source": [
    "print(Counter(y))"
   ]
  },
  {
   "attachments": {},
   "cell_type": "markdown",
   "metadata": {},
   "source": [
    "We then visualized the first and second characteristics to see if there were any obvious clusters between the three wines. According to the plot, we could see that there exists three clusters, however, the boundaries are not clear."
   ]
  },
  {
   "cell_type": "code",
   "execution_count": 32,
   "metadata": {},
   "outputs": [
    {
     "data": {
      "image/png": "[encoded data removed]",
      "text/plain": [
       "<Figure size 640x480 with 1 Axes>"
      ]
     },
     "metadata": {},
     "output_type": "display_data"
    }
   ],
   "source": [
    "plt.scatter(X[:, 0], X[:,1],c=y)\n",
    "plt.show()"
   ]
  },
  {
   "attachments": {},
   "cell_type": "markdown",
   "metadata": {},
   "source": [
    "Then we build our K-Nearest Neighbors model."
   ]
  },
  {
   "cell_type": "code",
   "execution_count": 42,
   "metadata": {},
   "outputs": [],
   "source": [
    "def knn_classifier_and_regressor(train_input, train_output, new_point, k, classifier=True):\n",
    "    n = train_input.shape[0]\n",
    "    distance = np.zeros(n)\n",
    "    \n",
    "    # Distance function\n",
    "    for i in range(n):\n",
    "        distance[i] = np.linalg.norm(train_input[i,:] - new_point)\n",
    "    \n",
    "    top_k_neighbors = np.argsort(distance)[:k]\n",
    "    k_neighbor_output = train_output[top_k_neighbors]\n",
    "    \n",
    "    if classifier:\n",
    "        voters = Counter(k_neighbor_output)\n",
    "        knn_result = voters.most_common(1)[0][0]\n",
    "    \n",
    "    else:\n",
    "        knn_result = np.mean(k_neighbor_output)\n",
    "    \n",
    "    return knn_result"
   ]
  },
  {
   "attachments": {},
   "cell_type": "markdown",
   "metadata": {},
   "source": [
    "Apply our model on the red wine dataset with all variables, we could see the prediction accuracy is .685, which is not high. The former plot reminds us to choose variables to increase accuracy."
   ]
  },
  {
   "cell_type": "code",
   "execution_count": 44,
   "metadata": {},
   "outputs": [
    {
     "name": "stdout",
     "output_type": "stream",
     "text": [
      "The prediction accuracy is: 0.685\n"
     ]
    }
   ],
   "source": [
    "X_train, X_test, y_train, y_test = train_test_split(X, y, test_size=0.3, random_state=24, stratify=y)\n",
    "\n",
    "predictions = [knn_classifier_and_regressor(X_train, \n",
    "                                          y_train, \n",
    "                                          new_point, \n",
    "                                          k=5,\n",
    "                                          classifier=True)\n",
    "              for new_point in X_test]\n",
    "\n",
    "accuracy_rate = np.sum(predictions==y_test)/len(y_test)\n",
    "print(f\"The prediction accuracy is: {round(accuracy_rate, 3)}\")"
   ]
  },
  {
   "attachments": {},
   "cell_type": "markdown",
   "metadata": {},
   "source": [
    "We could choose the first two columns of dataset 'fixed acidity' and 'volatile acidity' as our variables. The prediction accuracy increases to .87."
   ]
  },
  {
   "cell_type": "code",
   "execution_count": 52,
   "metadata": {},
   "outputs": [
    {
     "name": "stdout",
     "output_type": "stream",
     "text": [
      "The prediction accuracy is: 0.87\n"
     ]
    }
   ],
   "source": [
    "X_train, X_test, y_train, y_test = train_test_split(X[:, 0:2], y, test_size=0.3, random_state=24, stratify=y)\n",
    "\n",
    "predictions = [knn_classifier_and_regressor(X_train, \n",
    "                                          y_train, \n",
    "                                          new_point, \n",
    "                                          k=5,\n",
    "                                          classifier=True)\n",
    "              for new_point in X_test]\n",
    "\n",
    "accuracy_rate = np.sum(predictions==y_test)/len(y_test)\n",
    "print(f\"The prediction accuracy is: {round(accuracy_rate, 3)}\")"
   ]
  },
  {
   "attachments": {},
   "cell_type": "markdown",
   "metadata": {},
   "source": [
    "Since the ranges of different features vary, then we could try to scale the dataset to explore the efficiency of this data processing method."
   ]
  },
  {
   "cell_type": "code",
   "execution_count": 54,
   "metadata": {},
   "outputs": [],
   "source": [
    "scaler = StandardScaler()\n",
    "X_scaled = scaler.fit_transform(X)"
   ]
  },
  {
   "attachments": {},
   "cell_type": "markdown",
   "metadata": {},
   "source": [
    "We first use two variables 'fixed acidity' and 'volatile acidity' on the scaled dataset to make classification. According to the result, we could see it makes slightly decrease."
   ]
  },
  {
   "cell_type": "code",
   "execution_count": 55,
   "metadata": {},
   "outputs": [
    {
     "name": "stdout",
     "output_type": "stream",
     "text": [
      "The prediction accuracy is: 0.852\n"
     ]
    }
   ],
   "source": [
    "X_train, X_test, y_train, y_test = train_test_split(X_scaled[:, 0:2], y, test_size=0.3, random_state=24, stratify=y)\n",
    "\n",
    "predictions = [knn_classifier_and_regressor(X_train, \n",
    "                                          y_train, \n",
    "                                          new_point, \n",
    "                                          k=5,\n",
    "                                          classifier=True)\n",
    "              for new_point in X_test]\n",
    "\n",
    "accuracy_rate = np.sum(predictions==y_test)/len(y_test)\n",
    "print(f\"The prediction accuracy is: {round(accuracy_rate, 3)}\")"
   ]
  },
  {
   "attachments": {},
   "cell_type": "markdown",
   "metadata": {},
   "source": [
    "Then we apply all variables to make prediction on the scaled dataset. We could see the prediction accuracy increases a lot. According to this exploration, we could learn that scaling data is necessary, and it efficiently increase the prediction accuracy."
   ]
  },
  {
   "cell_type": "code",
   "execution_count": 56,
   "metadata": {},
   "outputs": [
    {
     "name": "stdout",
     "output_type": "stream",
     "text": [
      "The prediction accuracy is: 0.981\n"
     ]
    }
   ],
   "source": [
    "X_train, X_test, y_train, y_test = train_test_split(X_scaled, y, test_size=0.3, random_state=24, stratify=y)\n",
    "\n",
    "predictions = [knn_classifier_and_regressor(X_train, \n",
    "                                          y_train, \n",
    "                                          new_point, \n",
    "                                          k=5,\n",
    "                                          classifier=True)\n",
    "              for new_point in X_test]\n",
    "\n",
    "accuracy_rate = np.sum(predictions==y_test)/len(y_test)\n",
    "print(f\"The prediction accuracy is: {round(accuracy_rate, 3)}\")\n"
   ]
  },
  {
   "attachments": {},
   "cell_type": "markdown",
   "metadata": {},
   "source": [
    "#### How to determine $k$ in K-Nearest Neighbors method?\n",
    "\n",
    "$k$ is vital in this algorithm, in this part, we explore how $k$ affect the accuracy of the model."
   ]
  },
  {
   "cell_type": "code",
   "execution_count": 58,
   "metadata": {},
   "outputs": [],
   "source": [
    "X_train, X_test, y_train, y_test = train_test_split(X_scaled, y, test_size=0.3, random_state=24, stratify=y)\n",
    "\n",
    "n_train = X_train.shape[0]\n",
    "\n",
    "accuracy_list = []\n",
    "for k in range(1, n_train+1):\n",
    "    predictions = [knn_classifier_and_regressor(X_train, \n",
    "                                          y_train, \n",
    "                                          new_point, \n",
    "                                          k=k,\n",
    "                                          classifier=True)\n",
    "              for new_point in X_test]\n",
    "\n",
    "    accuracy_rate = np.sum(predictions==y_test)/len(y_test)\n",
    "    accuracy_list.append(accuracy_rate)"
   ]
  },
  {
   "cell_type": "code",
   "execution_count": 62,
   "metadata": {},
   "outputs": [
    {
     "data": {
      "image/png": "[encoded data removed]",
      "text/plain": [
       "<Figure size 640x480 with 1 Axes>"
      ]
     },
     "metadata": {},
     "output_type": "display_data"
    }
   ],
   "source": [
    "plt.plot(accuracy_list, c='k')\n",
    "plt.xlabel('k')\n",
    "plt.ylabel('classification accuracy')\n",
    "plt.show()"
   ]
  },
  {
   "attachments": {},
   "cell_type": "markdown",
   "metadata": {},
   "source": [
    "According to the plot, we could see this model has a good performance when $k<20$, then the accuracy decreases."
   ]
  },
  {
   "attachments": {},
   "cell_type": "markdown",
   "metadata": {},
   "source": [
    "#### Improvement\n",
    "\n",
    "To make improvement of the model, we could apply some variable selection method like forward or backward selection to make simpler model."
   ]
  }
 ],
 "metadata": {
  "kernelspec": {
   "display_name": "pytorch",
   "language": "python",
   "name": "python3"
  },
  "language_info": {
   "codemirror_mode": {
    "name": "ipython",
    "version": 3
   },
   "file_extension": ".py",
   "mimetype": "text/x-python",
   "name": "python",
   "nbconvert_exporter": "python",
   "pygments_lexer": "ipython3",
   "version": "3.9.16"
  },
  "orig_nbformat": 4
 },
 "nbformat": 4,
 "nbformat_minor": 2
}
