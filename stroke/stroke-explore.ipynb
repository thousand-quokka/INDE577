{
 "cells": [
  {
   "attachments": {},
   "cell_type": "markdown",
   "metadata": {},
   "source": [
    "---\n",
    "\n",
    "# Explore classification methods on stroke dataset\n",
    "\n",
    "In this notebook we explore and compare different classification methods on \"healthcare-dataset-stroke-data.csv\" dataset. Our methods include:\n",
    "\n",
    "1. Random Forest\n",
    "2. Decision Tree\n",
    "3. KNN\n",
    "4. Logistic Regression"
   ]
  },
  {
   "cell_type": "code",
   "execution_count": 12,
   "metadata": {},
   "outputs": [],
   "source": [
    "import pandas as pd\n",
    "import numpy as np\n",
    "import matplotlib.pyplot as plt\n",
    "import seaborn as sns\n",
    "\n",
    "from sklearn.model_selection import train_test_split\n",
    "from sklearn.ensemble import RandomForestClassifier\n",
    "from sklearn.metrics import accuracy_score\n",
    "import pylab as pl\n",
    "from sklearn.model_selection import train_test_split\n",
    "from sklearn.tree import DecisionTreeClassifier\n",
    "from sklearn import metrics\n",
    "from sklearn.neighbors import KNeighborsClassifier\n",
    "from sklearn.linear_model import LogisticRegression\n",
    "from sklearn.metrics import confusion_matrix\n",
    "from sklearn.metrics import jaccard_score\n",
    "from sklearn.metrics import classification_report, confusion_matrix\n",
    "import itertools\n",
    "from sklearn.metrics import log_loss\n",
    "from sklearn.cluster import KMeans\n",
    "\n",
    "df = pd.read_csv('/Users/celiajiang/Desktop/rice/INDE577/healthcare-dataset-stroke-data.csv')\n",
    "#process data\n",
    "df['gender'] = df['gender'].map({'Male': 1, 'Female': 0,'Other':2})\n",
    "df['ever_married'] = df['ever_married'].map({'Yes': 1, 'No': 0})\n",
    "df['work_type'] = df['work_type'].map({'Private': 0, 'Self-employed': 1,'children':2,'Govt_job':3,'Never_worked':4})\n",
    "df['Residence_type'] = df['Residence_type'].map({'Urban': 1, 'Rural': 0})\n",
    "df['smoking_status'] = df['smoking_status'].map({'never smoked': 0, 'Unknown': 1,'formerly smoked':2,'smokes':3})\n",
    "\n",
    "df_num = df[['gender', 'age', 'hypertension', 'heart_disease', 'ever_married', 'work_type', 'Residence_type', 'smoking_status', 'avg_glucose_level', 'bmi', 'stroke']].dropna()\n",
    "X, y = df_num[['gender', 'age', 'hypertension', 'heart_disease', 'ever_married', 'work_type', 'Residence_type', 'smoking_status', 'avg_glucose_level', 'bmi']], df_num['stroke']\n",
    "\n",
    "X_train, X_test, y_train, y_test = train_test_split(X, y, test_size=0.2, random_state=42)\n"
   ]
  },
  {
   "attachments": {},
   "cell_type": "markdown",
   "metadata": {},
   "source": [
    "### Data Processing\n",
    "In the data processing part, we have transformed description of \"gender\", \"ever_married\", \"work_type\", \"Residence_type\", \"smoking_status\" into categorical variables."
   ]
  },
  {
   "attachments": {},
   "cell_type": "markdown",
   "metadata": {},
   "source": [
    "### Random Forest\n",
    "In this part, we explored random forest classification method by applying all variables, and obtained the classification accuracy: 94.603%"
   ]
  },
  {
   "cell_type": "code",
   "execution_count": 24,
   "metadata": {},
   "outputs": [
    {
     "name": "stdout",
     "output_type": "stream",
     "text": [
      "accuracy_score(y_test, y_pred) = 0.9460285132382892 \n",
      "\n"
     ]
    }
   ],
   "source": [
    "rf = RandomForestClassifier(n_estimators=100, random_state=42)\n",
    "rf.fit(X_train, y_train)\n",
    "\n",
    "# predict with the trained model\n",
    "y_pred = rf.predict(X_test)\n",
    "print(f'{accuracy_score(y_test, y_pred) = } \\n')"
   ]
  },
  {
   "attachments": {},
   "cell_type": "markdown",
   "metadata": {},
   "source": [
    "### Decision Tree\n",
    "In this part, we explored decision tree classification method by setting max_depth as 4, and obtained the classification accuracy: 94.501%"
   ]
  },
  {
   "cell_type": "code",
   "execution_count": 25,
   "metadata": {},
   "outputs": [
    {
     "name": "stdout",
     "output_type": "stream",
     "text": [
      "DecisionTrees's Accuracy:  0.945010183299389\n"
     ]
    }
   ],
   "source": [
    "strokeTree = DecisionTreeClassifier(criterion=\"entropy\", max_depth = 4)\n",
    "strokeTree.fit(X_train,y_train)\n",
    "trainTree = strokeTree.predict(X_train)\n",
    "predTree = strokeTree.predict(X_test)\n",
    "\n",
    "Decision_Tree_Train=metrics.accuracy_score(y_train, trainTree)\n",
    "Decision_Tree_Test=metrics.accuracy_score(y_test, predTree)\n",
    "print(\"DecisionTrees's Accuracy: \", metrics.accuracy_score(y_test, predTree))"
   ]
  },
  {
   "attachments": {},
   "cell_type": "markdown",
   "metadata": {},
   "source": [
    "### KNN\n",
    "In this part, we explored KNN classification method by setting k as 2 and 4, obtaining the classification accuracy: 94.297% and 94.094% respectively."
   ]
  },
  {
   "cell_type": "code",
   "execution_count": 26,
   "metadata": {},
   "outputs": [
    {
     "name": "stdout",
     "output_type": "stream",
     "text": [
      "KNN Accuracy:  0.9429735234215886\n"
     ]
    }
   ],
   "source": [
    "k = 2\n",
    "#Train Model and Predict  \n",
    "neigh = KNeighborsClassifier(n_neighbors = k).fit(X_train,y_train)\n",
    "yhat = neigh.predict(X_test)\n",
    "KNN_Train=metrics.accuracy_score(y_train, neigh.predict(X_train))\n",
    "KNN_Test=metrics.accuracy_score(y_test, yhat)\n",
    "print(\"KNN Accuracy: \",KNN_Test )"
   ]
  },
  {
   "cell_type": "code",
   "execution_count": 10,
   "metadata": {},
   "outputs": [
    {
     "name": "stdout",
     "output_type": "stream",
     "text": [
      "KNN Accuracy:  0.9409368635437881\n"
     ]
    }
   ],
   "source": [
    "k = 4\n",
    "#Train Model and Predict  \n",
    "neigh = KNeighborsClassifier(n_neighbors = k).fit(X_train,y_train)\n",
    "yhat = neigh.predict(X_test)\n",
    "KNN_Train=metrics.accuracy_score(y_train, neigh.predict(X_train))\n",
    "KNN_Test=metrics.accuracy_score(y_test, yhat)\n",
    "print(\"KNN Accuracy: \",KNN_Test )"
   ]
  },
  {
   "attachments": {},
   "cell_type": "markdown",
   "metadata": {},
   "source": [
    "### Logistic Regression\n",
    "In this part, we explored logistic regression classification method, obtaining the classification accuracy: 94.501%."
   ]
  },
  {
   "cell_type": "code",
   "execution_count": 18,
   "metadata": {},
   "outputs": [
    {
     "name": "stdout",
     "output_type": "stream",
     "text": [
      "Logistic Regression Accuracy:  0.945010183299389\n"
     ]
    }
   ],
   "source": [
    "LR = LogisticRegression(C=0.01, solver='liblinear').fit(X_train,y_train)\n",
    "ytrain = LR.predict(X_train)\n",
    "yhat = LR.predict(X_test)\n",
    "ytrain_prob=LR.predict_proba(X_train)\n",
    "yhat_prob = LR.predict_proba(X_test)\n",
    "Logistic_Regression_Train=jaccard_score(y_train, ytrain,pos_label=0)\n",
    "Logistic_Regression_Train\n",
    "Logistic_Regression_Test=jaccard_score(y_test, yhat,pos_label=0)\n",
    "print(\"Logistic Regression Accuracy: \", Logistic_Regression_Test)"
   ]
  },
  {
   "cell_type": "markdown",
   "metadata": {},
   "source": []
  },
  {
   "cell_type": "code",
   "execution_count": 28,
   "metadata": {},
   "outputs": [
    {
     "data": {
      "text/plain": [
       "0.9460285132382892"
      ]
     },
     "execution_count": 28,
     "metadata": {},
     "output_type": "execute_result"
    }
   ],
   "source": [
    "from sklearn.ensemble import VotingClassifier\n",
    "final_model = VotingClassifier(estimators=[('lr', LR), ('dt',strokeTree),('knn',neigh),('rf', rf)], voting='hard')\n",
    "final_model.fit(X_train, y_train)\n",
    "pred_final = final_model.predict(X_test)\n",
    "metrics.accuracy_score(y_test, pred_final)"
   ]
  }
 ],
 "metadata": {
  "kernelspec": {
   "display_name": "base",
   "language": "python",
   "name": "python3"
  },
  "language_info": {
   "codemirror_mode": {
    "name": "ipython",
    "version": 3
   },
   "file_extension": ".py",
   "mimetype": "text/x-python",
   "name": "python",
   "nbconvert_exporter": "python",
   "pygments_lexer": "ipython3",
   "version": "3.9.13"
  },
  "orig_nbformat": 4
 },
 "nbformat": 4,
 "nbformat_minor": 2
}
